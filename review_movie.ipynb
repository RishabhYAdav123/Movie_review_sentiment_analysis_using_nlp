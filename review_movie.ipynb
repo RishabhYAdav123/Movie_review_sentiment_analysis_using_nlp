{
 "cells": [
  {
   "cell_type": "code",
   "execution_count": 1,
   "id": "10813236-c6ab-4a47-8150-cc0891497d54",
   "metadata": {},
   "outputs": [],
   "source": [
    "# 1 import basic library\n",
    "import numpy as np\n",
    "import pandas as pd\n",
    "import matplotlib.pyplot as plt\n",
    "import seaborn as sns\n"
   ]
  },
  {
   "cell_type": "code",
   "execution_count": 2,
   "id": "a7674ddc-2b36-4d83-b32f-9daf8069fc9d",
   "metadata": {},
   "outputs": [],
   "source": [
    "df=pd.read_csv('IMDB Dataset.csv')"
   ]
  },
  {
   "cell_type": "code",
   "execution_count": 3,
   "id": "bba4cd1c-ecf2-4fe7-ac90-eedea6d23889",
   "metadata": {},
   "outputs": [
    {
     "data": {
      "text/html": [
       "<div>\n",
       "<style scoped>\n",
       "    .dataframe tbody tr th:only-of-type {\n",
       "        vertical-align: middle;\n",
       "    }\n",
       "\n",
       "    .dataframe tbody tr th {\n",
       "        vertical-align: top;\n",
       "    }\n",
       "\n",
       "    .dataframe thead th {\n",
       "        text-align: right;\n",
       "    }\n",
       "</style>\n",
       "<table border=\"1\" class=\"dataframe\">\n",
       "  <thead>\n",
       "    <tr style=\"text-align: right;\">\n",
       "      <th></th>\n",
       "      <th>review</th>\n",
       "      <th>sentiment</th>\n",
       "    </tr>\n",
       "  </thead>\n",
       "  <tbody>\n",
       "    <tr>\n",
       "      <th>0</th>\n",
       "      <td>One of the other reviewers has mentioned that ...</td>\n",
       "      <td>positive</td>\n",
       "    </tr>\n",
       "    <tr>\n",
       "      <th>1</th>\n",
       "      <td>A wonderful little production. &lt;br /&gt;&lt;br /&gt;The...</td>\n",
       "      <td>positive</td>\n",
       "    </tr>\n",
       "    <tr>\n",
       "      <th>2</th>\n",
       "      <td>I thought this was a wonderful way to spend ti...</td>\n",
       "      <td>positive</td>\n",
       "    </tr>\n",
       "    <tr>\n",
       "      <th>3</th>\n",
       "      <td>Basically there's a family where a little boy ...</td>\n",
       "      <td>negative</td>\n",
       "    </tr>\n",
       "    <tr>\n",
       "      <th>4</th>\n",
       "      <td>Petter Mattei's \"Love in the Time of Money\" is...</td>\n",
       "      <td>positive</td>\n",
       "    </tr>\n",
       "  </tbody>\n",
       "</table>\n",
       "</div>"
      ],
      "text/plain": [
       "                                              review sentiment\n",
       "0  One of the other reviewers has mentioned that ...  positive\n",
       "1  A wonderful little production. <br /><br />The...  positive\n",
       "2  I thought this was a wonderful way to spend ti...  positive\n",
       "3  Basically there's a family where a little boy ...  negative\n",
       "4  Petter Mattei's \"Love in the Time of Money\" is...  positive"
      ]
     },
     "execution_count": 3,
     "metadata": {},
     "output_type": "execute_result"
    }
   ],
   "source": [
    "df.head()"
   ]
  },
  {
   "cell_type": "code",
   "execution_count": 4,
   "id": "1e92ff16-2e1c-40a0-bba3-041b3c63bf8c",
   "metadata": {},
   "outputs": [],
   "source": [
    "# 2. NLP & Text Processing\n",
    "import re  # For text cleaning\n",
    "import string\n",
    "import nltk\n",
    "from nltk.corpus import stopwords\n",
    "from nltk.tokenize import word_tokenize\n",
    "from nltk.stem import WordNetLemmatizer"
   ]
  },
  {
   "cell_type": "code",
   "execution_count": 5,
   "id": "e1ef0c26-43de-42a4-a84b-da735724b995",
   "metadata": {},
   "outputs": [],
   "source": [
    "# remove html tags\n",
    "import re\n",
    "def remove_html_regex(text):\n",
    "    return re.sub(r'<.*?>', '', text)\n",
    "\n",
    "df['review'] = df['review'].apply(remove_html_regex)"
   ]
  },
  {
   "cell_type": "code",
   "execution_count": 6,
   "id": "822a5815-ad80-4c1e-90ae-7b7ad63489b8",
   "metadata": {},
   "outputs": [
    {
     "data": {
      "text/html": [
       "<div>\n",
       "<style scoped>\n",
       "    .dataframe tbody tr th:only-of-type {\n",
       "        vertical-align: middle;\n",
       "    }\n",
       "\n",
       "    .dataframe tbody tr th {\n",
       "        vertical-align: top;\n",
       "    }\n",
       "\n",
       "    .dataframe thead th {\n",
       "        text-align: right;\n",
       "    }\n",
       "</style>\n",
       "<table border=\"1\" class=\"dataframe\">\n",
       "  <thead>\n",
       "    <tr style=\"text-align: right;\">\n",
       "      <th></th>\n",
       "      <th>review</th>\n",
       "      <th>sentiment</th>\n",
       "    </tr>\n",
       "  </thead>\n",
       "  <tbody>\n",
       "    <tr>\n",
       "      <th>0</th>\n",
       "      <td>One of the other reviewers has mentioned that ...</td>\n",
       "      <td>positive</td>\n",
       "    </tr>\n",
       "    <tr>\n",
       "      <th>1</th>\n",
       "      <td>A wonderful little production. The filming tec...</td>\n",
       "      <td>positive</td>\n",
       "    </tr>\n",
       "    <tr>\n",
       "      <th>2</th>\n",
       "      <td>I thought this was a wonderful way to spend ti...</td>\n",
       "      <td>positive</td>\n",
       "    </tr>\n",
       "    <tr>\n",
       "      <th>3</th>\n",
       "      <td>Basically there's a family where a little boy ...</td>\n",
       "      <td>negative</td>\n",
       "    </tr>\n",
       "    <tr>\n",
       "      <th>4</th>\n",
       "      <td>Petter Mattei's \"Love in the Time of Money\" is...</td>\n",
       "      <td>positive</td>\n",
       "    </tr>\n",
       "  </tbody>\n",
       "</table>\n",
       "</div>"
      ],
      "text/plain": [
       "                                              review sentiment\n",
       "0  One of the other reviewers has mentioned that ...  positive\n",
       "1  A wonderful little production. The filming tec...  positive\n",
       "2  I thought this was a wonderful way to spend ti...  positive\n",
       "3  Basically there's a family where a little boy ...  negative\n",
       "4  Petter Mattei's \"Love in the Time of Money\" is...  positive"
      ]
     },
     "execution_count": 6,
     "metadata": {},
     "output_type": "execute_result"
    }
   ],
   "source": [
    "df.head()"
   ]
  },
  {
   "cell_type": "code",
   "execution_count": 7,
   "id": "4cfe58fe-861e-43a1-9eb3-6841426dd083",
   "metadata": {},
   "outputs": [
    {
     "name": "stdout",
     "output_type": "stream",
     "text": [
      "                                              review  \\\n",
      "0  One of the other reviewers has mentioned that ...   \n",
      "1  A wonderful little production. The filming tec...   \n",
      "2  I thought this was a wonderful way to spend ti...   \n",
      "3  Basically there's a family where a little boy ...   \n",
      "4  Petter Mattei's \"Love in the Time of Money\" is...   \n",
      "\n",
      "                                 tokenized_sentences  \n",
      "0  [One of the other reviewers has mentioned that...  \n",
      "1  [A wonderful little production., The filming t...  \n",
      "2  [I thought this was a wonderful way to spend t...  \n",
      "3  [Basically there's a family where a little boy...  \n",
      "4  [Petter Mattei's \"Love in the Time of Money\" i...  \n"
     ]
    }
   ],
   "source": [
    "# tokenization of sentence\n",
    "import nltk\n",
    "\n",
    "\n",
    "from nltk.tokenize import sent_tokenize\n",
    "\n",
    "def tokenize_sentences(text):\n",
    "    return sent_tokenize(text)\n",
    "\n",
    "df['tokenized_sentences'] = df['review'].apply(tokenize_sentences)\n",
    "\n",
    "print(df[['review', 'tokenized_sentences']].head())"
   ]
  },
  {
   "cell_type": "code",
   "execution_count": 8,
   "id": "cbb06fc0-5e15-40e6-849c-74544fed4be6",
   "metadata": {},
   "outputs": [],
   "source": [
    "# remove stop words\n",
    "from nltk.corpus import stopwords\n",
    "# Download stopwords \n",
    "#nltk.download('stopwords')\n",
    "# Load English stopwords\n",
    "stop_words = set(stopwords.words('english'))"
   ]
  },
  {
   "cell_type": "code",
   "execution_count": 9,
   "id": "34cec898-6d80-4ffb-b363-9e4a93acd068",
   "metadata": {},
   "outputs": [],
   "source": [
    "def remove_stopwords(text):\n",
    "    words = text.split()\n",
    "    filtered_words = [word for word in words if word.lower() not in stop_words]\n",
    "    return ' '.join(filtered_words) \n"
   ]
  },
  {
   "cell_type": "code",
   "execution_count": 10,
   "id": "c4ef2c9e-33d9-40dd-949e-d5073b859e1a",
   "metadata": {},
   "outputs": [
    {
     "name": "stdout",
     "output_type": "stream",
     "text": [
      "                                              review  \\\n",
      "0  One of the other reviewers has mentioned that ...   \n",
      "1  A wonderful little production. The filming tec...   \n",
      "2  I thought this was a wonderful way to spend ti...   \n",
      "3  Basically there's a family where a little boy ...   \n",
      "4  Petter Mattei's \"Love in the Time of Money\" is...   \n",
      "\n",
      "                                      cleaned_review  \n",
      "0  One reviewers mentioned watching 1 Oz episode ...  \n",
      "1  wonderful little production. filming technique...  \n",
      "2  thought wonderful way spend time hot summer we...  \n",
      "3  Basically there's family little boy (Jake) thi...  \n",
      "4  Petter Mattei's \"Love Time Money\" visually stu...  \n"
     ]
    }
   ],
   "source": [
    "df['cleaned_review'] = df['review'].apply(remove_stopwords)\n",
    "\n",
    "print(df[['review', 'cleaned_review']].head())"
   ]
  },
  {
   "cell_type": "code",
   "execution_count": 11,
   "id": "0d8816db-e899-4002-aa33-c1a573649dbf",
   "metadata": {},
   "outputs": [],
   "source": [
    "# word tokenized\n",
    "from nltk.tokenize import word_tokenize\n",
    "\n",
    "def remove_stopwords_and_tokenize(text):\n",
    "    words = word_tokenize(text) \n",
    "    filtered_words = [word for word in words if word.lower() not in stop_words]\n",
    "    return filtered_words \n"
   ]
  },
  {
   "cell_type": "code",
   "execution_count": 12,
   "id": "b98bf20d-bdcb-4a13-ba0e-204f570c04bc",
   "metadata": {},
   "outputs": [
    {
     "name": "stdout",
     "output_type": "stream",
     "text": [
      "                                              review  \\\n",
      "0  One of the other reviewers has mentioned that ...   \n",
      "1  A wonderful little production. The filming tec...   \n",
      "2  I thought this was a wonderful way to spend ti...   \n",
      "3  Basically there's a family where a little boy ...   \n",
      "4  Petter Mattei's \"Love in the Time of Money\" is...   \n",
      "\n",
      "                                     tokenized_words  \n",
      "0  [One, reviewers, mentioned, watching, 1, Oz, e...  \n",
      "1  [wonderful, little, production, ., filming, te...  \n",
      "2  [thought, wonderful, way, spend, time, hot, su...  \n",
      "3  [Basically, 's, family, little, boy, (, Jake, ...  \n",
      "4  [Petter, Mattei, 's, ``, Love, Time, Money, ''...  \n"
     ]
    }
   ],
   "source": [
    "df['tokenized_words'] = df['review'].apply(remove_stopwords_and_tokenize)\n",
    "\n",
    "# Print first few rows\n",
    "print(df[['review', 'tokenized_words']].head())\n"
   ]
  },
  {
   "cell_type": "code",
   "execution_count": 13,
   "id": "591b64d4-271b-4874-bc1f-5e9c7efa6a83",
   "metadata": {},
   "outputs": [
    {
     "name": "stdout",
     "output_type": "stream",
     "text": [
      "[ 2.141266    0.44812045  0.7965468  -0.55993086 -0.45098642  1.1238328\n",
      "  1.0250868   2.9376867   0.43996313 -1.3816146   2.1923113  -1.1568161\n",
      "  1.0837629   2.6234047  -1.5302914  -0.9083638  -0.5117327   1.777478\n",
      " -0.46710727 -0.90856266  0.721203   -3.4194717  -2.1320288  -0.37314343\n",
      " -1.1324222  -0.22327313  0.75541145 -1.2586553   0.17559348 -1.5052001\n",
      " -0.9356716   0.17586544  0.84579915  0.14343198 -1.1787841  -1.4240793\n",
      "  2.815342   -0.64938015 -1.5322659   1.1596559  -0.16240345 -0.4900868\n",
      "  1.0820887  -1.4792577   0.6545315   0.53689367  0.18038182  1.9251276\n",
      " -0.7024451  -0.515174    0.22734095  0.4577177   0.13182044  1.3936839\n",
      " -1.9978437   0.23743246  2.4867368  -1.0799055  -0.58304363 -0.19325909\n",
      "  1.3435607   0.5216389  -1.4937156  -0.16611275  0.20091897  1.3620743\n",
      "  1.1202123  -1.5793463  -1.1495384   0.18709421  0.761489   -0.3597924\n",
      "  0.7805278  -0.33039725  2.5047946   1.7251036   1.4187278   0.38232225\n",
      "  1.0753374   0.6679003  -0.6901265   0.49880332 -1.7897638  -1.8731695\n",
      " -2.357863    0.09017146 -2.70831    -0.9304578   1.9819378   1.4479868\n",
      " -0.02763913  0.3286837   0.12386094 -1.3420388   0.5803963  -0.55410993\n",
      " -1.6818061  -1.3042651   0.2542509   0.6107919 ]\n"
     ]
    }
   ],
   "source": [
    "# use word embedding(word2Vec)\n",
    "#!pip install gensim numpy nltk\n",
    "\n",
    "from gensim.models import Word2Vec\n",
    "reviews = df['tokenized_words'].tolist()\n",
    "\n",
    "word2vec_model = Word2Vec(sentences=reviews, vector_size=100, window=5, min_count=1, workers=4)\n",
    "\n",
    "word_vector = word2vec_model.wv['wonderful'] \n",
    "print(word_vector)"
   ]
  },
  {
   "cell_type": "code",
   "execution_count": 14,
   "id": "4188ab12-df47-4666-8640-4a2251924474",
   "metadata": {},
   "outputs": [
    {
     "name": "stdout",
     "output_type": "stream",
     "text": [
      "                                              review  \\\n",
      "0  One of the other reviewers has mentioned that ...   \n",
      "1  A wonderful little production. The filming tec...   \n",
      "2  I thought this was a wonderful way to spend ti...   \n",
      "3  Basically there's a family where a little boy ...   \n",
      "4  Petter Mattei's \"Love in the Time of Money\" is...   \n",
      "\n",
      "                                    review_embedding  \n",
      "0  [0.11308393, 0.3685359, 0.10288127, 0.57589424...  \n",
      "1  [0.07165608, 0.27100298, 0.31562686, 0.3812131...  \n",
      "2  [0.12705946, 0.118480854, -0.13264547, 0.43205...  \n",
      "3  [0.017053263, 0.049639154, -0.005259812, 0.506...  \n",
      "4  [0.2621307, 0.25827566, 0.011479268, 0.4058862...  \n"
     ]
    }
   ],
   "source": [
    "def get_review_vector(tokens, model):\n",
    "    vectors = [model.wv[word] for word in tokens if word in model.wv]\n",
    "    return np.mean(vectors, axis=0) if vectors else np.zeros(model.vector_size)\n",
    "    \n",
    "df['review_embedding'] = df['tokenized_words'].apply(lambda tokens: get_review_vector(tokens, word2vec_model))\n",
    "\n",
    "print(df[['review', 'review_embedding']].head())"
   ]
  },
  {
   "cell_type": "code",
   "execution_count": 15,
   "id": "16df36a5-ce7c-4043-949d-07a028b54309",
   "metadata": {},
   "outputs": [
    {
     "name": "stdout",
     "output_type": "stream",
     "text": [
      "                                              review  sentiment\n",
      "0  One of the other reviewers has mentioned that ...          1\n",
      "1  A wonderful little production. The filming tec...          1\n",
      "2  I thought this was a wonderful way to spend ti...          1\n",
      "3  Basically there's a family where a little boy ...          0\n",
      "4  Petter Mattei's \"Love in the Time of Money\" is...          1\n"
     ]
    }
   ],
   "source": [
    "# Convert sentiment column to numeric (1 for positive, 0 for negative)\n",
    "df['sentiment'] = df['sentiment'].map({'positive': 1, 'negative': 0})\n",
    "\n",
    "print(df[['review', 'sentiment']].head())"
   ]
  },
  {
   "cell_type": "code",
   "execution_count": 16,
   "id": "a3ef061b-6f07-4b00-b662-fb98d34a4a07",
   "metadata": {},
   "outputs": [
    {
     "name": "stdout",
     "output_type": "stream",
     "text": [
      "Training samples: 40000\n",
      "Testing samples: 10000\n"
     ]
    }
   ],
   "source": [
    "# train test split\n",
    "from sklearn.model_selection import train_test_split\n",
    "\n",
    "X = np.vstack(df['review_embedding'].values)\n",
    "y = df['sentiment'].values\n",
    "\n",
    "X_train, X_test, y_train, y_test = train_test_split(X, y, test_size=0.2, random_state=42)\n",
    "\n",
    "print(\"Training samples:\", len(X_train))\n",
    "print(\"Testing samples:\", len(X_test))"
   ]
  },
  {
   "cell_type": "code",
   "execution_count": 17,
   "id": "819590b6-02ea-4423-b1b5-dcddfe3f9f58",
   "metadata": {},
   "outputs": [],
   "source": [
    "# train a machine learning model\n",
    "from sklearn.ensemble import RandomForestClassifier\n",
    "from sklearn.metrics import accuracy_score, classification_report\n",
    "\n",
    "clf = RandomForestClassifier(n_estimators=100, random_state=42)\n",
    "clf.fit(X_train, y_train)\n",
    "\n",
    "y_pred = clf.predict(X_test)"
   ]
  },
  {
   "cell_type": "code",
   "execution_count": 18,
   "id": "a9237c83-36e9-4a99-b4e8-7f3320791cf9",
   "metadata": {},
   "outputs": [
    {
     "name": "stdout",
     "output_type": "stream",
     "text": [
      "Accuracy: 0.8269\n",
      "Classification Report:\n",
      "               precision    recall  f1-score   support\n",
      "\n",
      "           0       0.83      0.82      0.82      4961\n",
      "           1       0.82      0.84      0.83      5039\n",
      "\n",
      "    accuracy                           0.83     10000\n",
      "   macro avg       0.83      0.83      0.83     10000\n",
      "weighted avg       0.83      0.83      0.83     10000\n",
      "\n"
     ]
    }
   ],
   "source": [
    "print(\"Accuracy:\", accuracy_score(y_test, y_pred))\n",
    "print(\"Classification Report:\\n\", classification_report(y_test, y_pred))"
   ]
  },
  {
   "cell_type": "code",
   "execution_count": 19,
   "id": "ca52f748-5c64-4e1c-918f-c60006479142",
   "metadata": {},
   "outputs": [],
   "source": [
    "# train svm model\n",
    "from sklearn.svm import SVC\n",
    "from sklearn.metrics import accuracy_score, classification_report\n",
    "\n",
    "\n",
    "svm_clf = SVC(kernel='linear', random_state=42)\n",
    "svm_clf.fit(X_train, y_train)\n",
    "\n",
    "\n",
    "y_pred_svm = svm_clf.predict(X_test)"
   ]
  },
  {
   "cell_type": "code",
   "execution_count": 20,
   "id": "12918c0f-a1c5-43c1-a7c3-5eb007d7edb1",
   "metadata": {},
   "outputs": [
    {
     "name": "stdout",
     "output_type": "stream",
     "text": [
      "SVM Accuracy: 0.8535\n",
      "SVM Classification Report:\n",
      "               precision    recall  f1-score   support\n",
      "\n",
      "           0       0.86      0.84      0.85      4961\n",
      "           1       0.85      0.86      0.86      5039\n",
      "\n",
      "    accuracy                           0.85     10000\n",
      "   macro avg       0.85      0.85      0.85     10000\n",
      "weighted avg       0.85      0.85      0.85     10000\n",
      "\n"
     ]
    }
   ],
   "source": [
    "# Evaluate performance\n",
    "print(\"SVM Accuracy:\", accuracy_score(y_test, y_pred_svm))\n",
    "print(\"SVM Classification Report:\\n\", classification_report(y_test, y_pred_svm))"
   ]
  },
  {
   "cell_type": "code",
   "execution_count": 21,
   "id": "e4ab27b8-81ae-4ef9-b548-6377da3d9c4f",
   "metadata": {},
   "outputs": [
    {
     "name": "stdout",
     "output_type": "stream",
     "text": [
      "Fitting 5 folds for each of 12 candidates, totalling 60 fits\n",
      "[CV] END ..................C=0.1, gamma=scale, kernel=linear; total time= 1.3min\n",
      "[CV] END ..................C=0.1, gamma=scale, kernel=linear; total time= 1.3min\n",
      "[CV] END ..................C=0.1, gamma=scale, kernel=linear; total time= 1.3min\n",
      "[CV] END ..................C=0.1, gamma=scale, kernel=linear; total time= 1.3min\n",
      "[CV] END ..................C=0.1, gamma=scale, kernel=linear; total time= 1.3min\n",
      "[CV] END .....................C=0.1, gamma=scale, kernel=rbf; total time= 2.1min\n",
      "[CV] END .....................C=0.1, gamma=scale, kernel=rbf; total time= 2.1min\n",
      "[CV] END .....................C=0.1, gamma=scale, kernel=rbf; total time= 2.1min\n",
      "[CV] END .....................C=0.1, gamma=scale, kernel=rbf; total time= 1.9min\n",
      "[CV] END .....................C=0.1, gamma=scale, kernel=rbf; total time= 1.9min\n",
      "[CV] END ....................C=0.1, gamma=scale, kernel=poly; total time= 1.6min\n",
      "[CV] END ....................C=0.1, gamma=scale, kernel=poly; total time= 1.6min\n",
      "[CV] END ....................C=0.1, gamma=scale, kernel=poly; total time= 1.6min\n",
      "[CV] END ....................C=0.1, gamma=scale, kernel=poly; total time= 1.6min\n",
      "[CV] END ....................C=0.1, gamma=scale, kernel=poly; total time= 1.6min\n",
      "[CV] END ...................C=0.1, gamma=auto, kernel=linear; total time= 1.3min\n",
      "[CV] END ...................C=0.1, gamma=auto, kernel=linear; total time= 1.3min\n",
      "[CV] END ...................C=0.1, gamma=auto, kernel=linear; total time= 1.3min\n",
      "[CV] END ...................C=0.1, gamma=auto, kernel=linear; total time= 1.3min\n",
      "[CV] END ...................C=0.1, gamma=auto, kernel=linear; total time= 1.3min\n",
      "[CV] END ......................C=0.1, gamma=auto, kernel=rbf; total time= 2.6min\n",
      "[CV] END ......................C=0.1, gamma=auto, kernel=rbf; total time= 2.6min\n",
      "[CV] END ......................C=0.1, gamma=auto, kernel=rbf; total time= 2.6min\n",
      "[CV] END ......................C=0.1, gamma=auto, kernel=rbf; total time= 2.6min\n",
      "[CV] END ......................C=0.1, gamma=auto, kernel=rbf; total time= 2.6min\n",
      "[CV] END .....................C=0.1, gamma=auto, kernel=poly; total time= 2.8min\n",
      "[CV] END .....................C=0.1, gamma=auto, kernel=poly; total time= 2.9min\n",
      "[CV] END .....................C=0.1, gamma=auto, kernel=poly; total time= 3.1min\n",
      "[CV] END .....................C=0.1, gamma=auto, kernel=poly; total time= 3.1min\n",
      "[CV] END .....................C=0.1, gamma=auto, kernel=poly; total time= 3.1min\n",
      "[CV] END ....................C=1, gamma=scale, kernel=linear; total time= 1.6min\n",
      "[CV] END ....................C=1, gamma=scale, kernel=linear; total time= 1.6min\n",
      "[CV] END ....................C=1, gamma=scale, kernel=linear; total time= 1.6min\n",
      "[CV] END ....................C=1, gamma=scale, kernel=linear; total time= 1.7min\n",
      "[CV] END ....................C=1, gamma=scale, kernel=linear; total time= 1.7min\n",
      "[CV] END .......................C=1, gamma=scale, kernel=rbf; total time= 1.8min\n",
      "[CV] END .......................C=1, gamma=scale, kernel=rbf; total time= 1.8min\n",
      "[CV] END .......................C=1, gamma=scale, kernel=rbf; total time= 1.7min\n",
      "[CV] END .......................C=1, gamma=scale, kernel=rbf; total time= 1.7min\n",
      "[CV] END .......................C=1, gamma=scale, kernel=rbf; total time= 1.8min\n",
      "[CV] END ......................C=1, gamma=scale, kernel=poly; total time= 1.4min\n",
      "[CV] END ......................C=1, gamma=scale, kernel=poly; total time= 1.4min\n",
      "[CV] END ......................C=1, gamma=scale, kernel=poly; total time= 1.3min\n",
      "[CV] END ......................C=1, gamma=scale, kernel=poly; total time= 1.3min\n",
      "[CV] END ......................C=1, gamma=scale, kernel=poly; total time= 1.4min\n",
      "[CV] END .....................C=1, gamma=auto, kernel=linear; total time= 1.6min\n",
      "[CV] END .....................C=1, gamma=auto, kernel=linear; total time= 1.6min\n",
      "[CV] END .....................C=1, gamma=auto, kernel=linear; total time= 1.6min\n",
      "[CV] END .....................C=1, gamma=auto, kernel=linear; total time= 1.7min\n",
      "[CV] END .....................C=1, gamma=auto, kernel=linear; total time= 1.6min\n",
      "[CV] END ........................C=1, gamma=auto, kernel=rbf; total time= 2.0min\n",
      "[CV] END ........................C=1, gamma=auto, kernel=rbf; total time= 2.1min\n",
      "[CV] END ........................C=1, gamma=auto, kernel=rbf; total time= 2.1min\n",
      "[CV] END ........................C=1, gamma=auto, kernel=rbf; total time= 1.9min\n",
      "[CV] END ........................C=1, gamma=auto, kernel=rbf; total time= 2.0min\n",
      "[CV] END .......................C=1, gamma=auto, kernel=poly; total time= 2.4min\n",
      "[CV] END .......................C=1, gamma=auto, kernel=poly; total time= 2.3min\n",
      "[CV] END .......................C=1, gamma=auto, kernel=poly; total time= 2.2min\n",
      "[CV] END .......................C=1, gamma=auto, kernel=poly; total time= 2.3min\n",
      "[CV] END .......................C=1, gamma=auto, kernel=poly; total time= 2.2min\n",
      "Best Parameters: {'C': 1, 'gamma': 'scale', 'kernel': 'rbf'}\n"
     ]
    }
   ],
   "source": [
    "# train by gridsearchcv\n",
    "from sklearn.model_selection import GridSearchCV\n",
    "\n",
    "\n",
    "param_grid = {\n",
    "    'C': [0.1, 1],  # Regularization strength\n",
    "    'kernel': ['linear', 'rbf', 'poly'],  # Different kernels\n",
    "    'gamma': ['scale', 'auto']  # Gamma settings\n",
    "}\n",
    "\n",
    "\n",
    "svm_grid = GridSearchCV(SVC(), param_grid, cv=5, scoring='accuracy', verbose=2)\n",
    "svm_grid.fit(X_train, y_train)\n",
    "\n",
    "print(\"Best Parameters:\", svm_grid.best_params_)\n",
    "best_svm = svm_grid.best_estimator_"
   ]
  },
  {
   "cell_type": "code",
   "execution_count": 22,
   "id": "58151b74-9237-45eb-994a-512fac861993",
   "metadata": {},
   "outputs": [
    {
     "name": "stdout",
     "output_type": "stream",
     "text": [
      "Tuned SVM Accuracy: 0.8574\n"
     ]
    }
   ],
   "source": [
    "y_pred_best_svm = best_svm.predict(X_test)\n",
    "print(\"Tuned SVM Accuracy:\", accuracy_score(y_test, y_pred_best_svm))"
   ]
  },
  {
   "cell_type": "code",
   "execution_count": 32,
   "id": "69bf03c0-45ff-4045-aa74-117987f94b52",
   "metadata": {},
   "outputs": [
    {
     "name": "stdout",
     "output_type": "stream",
     "text": [
      "SVM Model saved as 'svm_sentiment_model_pkl' \n"
     ]
    }
   ],
   "source": [
    "import pickle\n",
    "\n",
    "with open('svm_sentiment_model_pkl', 'wb') as model_file:\n",
    "    pickle.dump(svm_clf, model_file)\n",
    "\n",
    "print(\"SVM Model saved as 'svm_sentiment_model_pkl' \")"
   ]
  },
  {
   "cell_type": "code",
   "execution_count": 34,
   "id": "2c1388b2-f16b-4f44-965a-e41f46386925",
   "metadata": {},
   "outputs": [],
   "source": [
    "with open('svm_sentiment_model_pkl','rb') as model_file:\n",
    "   mp = pickle.load(model_file)  \n"
   ]
  },
  {
   "cell_type": "code",
   "execution_count": 35,
   "id": "52146a44-3c91-4be3-ba88-4374487ec6f9",
   "metadata": {},
   "outputs": [],
   "source": [
    "import os\n",
    "\n",
    "# Get desktop path\n",
    "desktop_path = os.path.join(os.path.expanduser(\"~\"), \"Desktop\", \"svm_sentiment_model.pkl\")\n",
    "\n",
    "# Save the model to the desktop\n",
    "with open(desktop_path, 'wb') as model_file:\n",
    "    pickle.dump(svm_clf, model_file)\n"
   ]
  },
  {
   "cell_type": "code",
   "execution_count": null,
   "id": "77844431-3db1-4a0f-8b27-edac8dca9642",
   "metadata": {},
   "outputs": [],
   "source": []
  },
  {
   "cell_type": "code",
   "execution_count": null,
   "id": "1d8ed5b7-75d3-413f-911f-151b9cd5f0d5",
   "metadata": {},
   "outputs": [],
   "source": []
  }
 ],
 "metadata": {
  "kernelspec": {
   "display_name": "Python 3 (ipykernel)",
   "language": "python",
   "name": "python3"
  },
  "language_info": {
   "codemirror_mode": {
    "name": "ipython",
    "version": 3
   },
   "file_extension": ".py",
   "mimetype": "text/x-python",
   "name": "python",
   "nbconvert_exporter": "python",
   "pygments_lexer": "ipython3",
   "version": "3.11.7"
  }
 },
 "nbformat": 4,
 "nbformat_minor": 5
}
